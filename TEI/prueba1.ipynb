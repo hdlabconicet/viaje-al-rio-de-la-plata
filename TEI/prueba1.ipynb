{
 "cells": [
  {
   "cell_type": "code",
   "execution_count": 6,
   "id": "3982b20d-95eb-4dd4-b752-3a95480e66cb",
   "metadata": {},
   "outputs": [],
   "source": [
    "import os\n",
    "folder_path = os.chdir('E:/hd-git/viaje-al-rio-de-la-plata/TEI')"
   ]
  },
  {
   "cell_type": "code",
   "execution_count": 8,
   "id": "a5d837ed-f1bb-4ad2-9315-42e61b0ad04e",
   "metadata": {},
   "outputs": [
    {
     "name": "stdout",
     "output_type": "stream",
     "text": [
      "['pb138A.xml', 'pb139A.xml', 'pb140.xml', 'pb141.xml', 'pb142.xml', 'pb143.xml', 'pb144.xml', 'pb145.xml', 'pb146.xml', 'pb147.xml', 'pb148.xml', 'pb149.xml', 'pb150.xml', 'pb151.xml', 'pb152.xml', 'pb153.xml', 'pb154.xml', 'pb155.xml', 'pb156.xml', 'pb157.xml', 'pb158.xml', 'pb159.xml', 'pb160.xml', 'pb161.xml', 'pb162.xml', 'pb163.xml', 'pb164.xml', 'pb165.xml', 'pb166.xml', 'pb167.xml', 'pb168.xml', 'pb169.xml', 'pb170.xml', 'pb171.xml', 'pb172.xml', 'pb173.xml', 'pb174.xml', 'pb175.xml', 'pb176.xml', 'pb177.xml', 'pb178.xml', 'pb179.xml', 'pb180.xml', 'pb181.xml', 'pb182.xml', 'pb184.xml', 'pb185.xml', 'pb186.xml', 'pb187.xml', 'pb188.xml', 'pb189.xml', 'pb190.xml', 'pb191.xml', 'pb192.xml', 'pb193.xml', 'pb194.xml', 'pb195.xml', 'pb196.xml', 'pb197.xml', 'pb198.xml', 'pb199.xml', 'pb200.xml', 'pb201.xml', 'pb202.xml', 'pb203.xml', 'pb205.xml', 'pb206.xml', 'pb207.xml', 'pb208.xml', 'pb209.xml', 'pb210.xml', 'pb211.xml', 'pb212.xml', 'pb214.xml', 'pb215.xml', 'pb216.xml', 'pb217.xml', 'pb218.xml', 'pb219.xml', 'pb220.xml', 'pb221.xml', 'pb222.xml', 'pb223.xml', 'pb224.xml', 'pb225.xml', 'pb226.xml', 'pb227.xml', 'pb228.xml', 'pb230.xml', 'pb231.xml', 'pb232.xml', 'pb233.xml', 'pb234.xml', 'pb235.xml', 'pb236.xml', 'pb237.xml', 'pb238.xml', 'pb239.xml', 'pb240.xml', 'pb241.xml', 'pb242.xml', 'pb243.xml', 'pb244.xml', 'pb245.xml', 'pb246.xml', 'pb247.xml', 'pb249.xml', 'pb250.xml', 'pb251.xml', 'pb252.xml', 'pb253.xml', 'pb254.xml', 'pb255.xml', 'pb256.xml', 'pb257.xml', 'pb258.xml', 'pb259.xml', 'pb260.xml', 'pb261.xml', 'pb262.xml', 'pb263.xml', 'pb264.xml', 'pb265.xml', 'pb266.xml', 'pb267.xml', 'pb268.xml', 'pb269.xml', 'pb270.xml', 'pb271.xml', 'pb272.xml', 'pb273.xml', 'pb274.xml', 'pb275.xml', 'pb276.xml', 'pb277.xml', 'pb278.xml', 'pb279.xml', 'pb280.xml', 'pb281.xml', 'pb282.xml', 'pb283.xml', 'pb284.xml', 'pb285.xml', 'pb286.xml', 'pb287.xml', 'pb288.xml', 'pb289.xml', 'pb290.xml', 'pb291.xml', 'pb292.xml', 'pb293.xml', 'pb294.xml', 'pb295.xml', 'pb296.xml', 'pb183.xml', 'pb204.xml', 'pb213.xml', 'pb229.xml', 'pb248.xml', 'transformacion.xsl', 'Untitled.ipynb', '.ipynb_checkpoints', 'untitled.txt']\n"
     ]
    }
   ],
   "source": [
    "# List all files in the directory\n",
    "files = os.listdir(folder_path)\n",
    "print(files)"
   ]
  },
  {
   "cell_type": "code",
   "execution_count": 10,
   "id": "44f8be16-e14e-45b3-9c6c-f95c19f1ee42",
   "metadata": {},
   "outputs": [],
   "source": [
    "import xml.etree.ElementTree as ET\n",
    "import re\n",
    "import pandas as pd"
   ]
  },
  {
   "cell_type": "code",
   "execution_count": 12,
   "id": "3eda7f65-4e03-4653-8e4c-323f5be9fc3f",
   "metadata": {},
   "outputs": [
    {
     "ename": "TypeError",
     "evalue": "expected str, bytes or os.PathLike object, not NoneType",
     "output_type": "error",
     "traceback": [
      "\u001b[1;31m---------------------------------------------------------------------------\u001b[0m",
      "\u001b[1;31mTypeError\u001b[0m                                 Traceback (most recent call last)",
      "Cell \u001b[1;32mIn[12], line 80\u001b[0m\n\u001b[0;32m     78\u001b[0m \u001b[38;5;28;01mfor\u001b[39;00m file \u001b[38;5;129;01min\u001b[39;00m files:\n\u001b[0;32m     79\u001b[0m     \u001b[38;5;28;01mif\u001b[39;00m file\u001b[38;5;241m.\u001b[39mendswith(\u001b[38;5;124m'\u001b[39m\u001b[38;5;124m.xml\u001b[39m\u001b[38;5;124m'\u001b[39m):\n\u001b[1;32m---> 80\u001b[0m         file_path \u001b[38;5;241m=\u001b[39m os\u001b[38;5;241m.\u001b[39mpath\u001b[38;5;241m.\u001b[39mjoin(folder_path, file)\n\u001b[0;32m     81\u001b[0m         chapters \u001b[38;5;241m=\u001b[39m extract_place_and_person_by_chapter(file_path)\n\u001b[0;32m     83\u001b[0m         \u001b[38;5;66;03m# Imprimir tabla para cada capítulo\u001b[39;00m\n",
      "File \u001b[1;32m<frozen ntpath>:108\u001b[0m, in \u001b[0;36mjoin\u001b[1;34m(path, *paths)\u001b[0m\n",
      "\u001b[1;31mTypeError\u001b[0m: expected str, bytes or os.PathLike object, not NoneType"
     ]
    }
   ],
   "source": [
    "# Lee el XML y extrae la aparición de placeName y persName por cap\n",
    "def extract_place_and_person_by_chapter(file_path):\n",
    "    try:\n",
    "        tree = ET.parse(file_path)\n",
    "        root = tree.getroot()\n",
    "\n",
    "        chapters = []  # Lista para almacenar capítulo\n",
    "        current_chapter = None  # Variable para almacenar el capítulo\n",
    "\n",
    "        # Función para limpiar las etiquetas no deseadas, como <hi>, se puede ampliar\n",
    "       \n",
    "        def clean_text(text):\n",
    "            if text:\n",
    "                text = re.sub(r'<hi[^>]*>|</hi>', '', text)  # Elimina las etiquetas <hi>\n",
    "            return text\n",
    "            return ''\n",
    "\n",
    "        # itero en el XML y extraigo placeName y persName\n",
    "        for elem in root.iter():\n",
    "            # Si encuentra un nuevo <div>, genera una nueva entrada\n",
    "            if elem.tag.endswith('div'):\n",
    "                if current_chapter:  # agrego el capítulo procesado a la lista\n",
    "                    chapters.append(current_chapter)\n",
    "                current_chapter = {\n",
    "                    'chapter_title': elem.attrib.get('n', 'cap_'),\n",
    "                    'term': [],\n",
    "                    'persons': []\n",
    "                }\n",
    "\n",
    "            # agrego term al capítulo\n",
    "            elif elem.tag.endswith('term'):\n",
    "                term_info = {\n",
    "                    'text': clean_text(''.join(elem.itertext())),  # Extrae el texto y etiquetas anidadas\n",
    "                    'attributes': elem.attrib  # Extrae atributos\n",
    "                }\n",
    "                if current_chapter:\n",
    "                    current_chapter['term'].append(term_info)\n",
    "\n",
    "            # agrego persName al capítulo, repito anterior\n",
    "            elif elem.tag.endswith('persName'):\n",
    "                person_info = {\n",
    "                    'text': clean_text(''.join(elem.itertext())),  \n",
    "                    'attributes': elem.attrib  \n",
    "                }\n",
    "                if current_chapter:\n",
    "                    current_chapter['persons'].append(person_info)\n",
    "\n",
    "        # sumo el último capítulo procesado\n",
    "        if current_chapter:\n",
    "            chapters.append(current_chapter)\n",
    "\n",
    "        return chapters\n",
    "\n",
    "    except Exception as e:\n",
    "        print(f\"Error al procesar {file_path}: {e}\")\n",
    "        return []\n",
    "\n",
    "# Función para imprimir la tabla de term y persName por capítulo\n",
    "def print_chapter_table(chapters):\n",
    "    for chapter in chapters:\n",
    "        print(f\"Capítulo: {chapter['chapter_title']}\")\n",
    "        print(f\"{'Orden':<5} {'Tipo':<10} {'Texto':<30} {'Atributos'}\")\n",
    "        count = 1\n",
    "        # lista de lugares y personas por orden de aparición\n",
    "        for term in chapter['term']:\n",
    "            print(f\"{count:<5} {'Term':<10} {term['text']:<30} {term['attributes']}\")\n",
    "            count += 1\n",
    "        for person in chapter['persons']:\n",
    "            print(f\"{count:<5} {'Persona':<10} {person['text']:<30} {person['attributes']}\")\n",
    "            count += 1\n",
    "        print(\"\\n\" + \"=\"*50 + \"\\n\")\n",
    "\n",
    "               \n",
    "# ahora se itera sobre los archivos y aplica las funciones\n",
    "\n",
    "files = os.listdir(folder_path)\n",
    "\n",
    "for file in files:\n",
    "    if file.endswith('.xml'):\n",
    "        file_path = os.path.join(folder_path, file)\n",
    "        chapters = extract_place_and_person_by_chapter(file_path)\n",
    "\n",
    "        # Imprimir tabla para cada capítulo\n",
    "        print(f\"Tabla de términos y personas para {file}:\\n\")\n",
    "        print_chapter_table(chapters)"
   ]
  }
 ],
 "metadata": {
  "kernelspec": {
   "display_name": "Python 3 (ipykernel)",
   "language": "python",
   "name": "python3"
  },
  "language_info": {
   "codemirror_mode": {
    "name": "ipython",
    "version": 3
   },
   "file_extension": ".py",
   "mimetype": "text/x-python",
   "name": "python",
   "nbconvert_exporter": "python",
   "pygments_lexer": "ipython3",
   "version": "3.12.9"
  }
 },
 "nbformat": 4,
 "nbformat_minor": 5
}
